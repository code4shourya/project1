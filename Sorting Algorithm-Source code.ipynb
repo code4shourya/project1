{
 "cells": [
  {
   "cell_type": "markdown",
   "metadata": {},
   "source": [
    "# SORTING TECHNIQUES"
   ]
  },
  {
   "cell_type": "markdown",
   "metadata": {},
   "source": [
    "##  1-Merge Sort "
   ]
  },
  {
   "cell_type": "code",
   "execution_count": 26,
   "metadata": {},
   "outputs": [],
   "source": [
    "#Merge-Sort\n",
    "def merge(A,B):\n",
    "    m,n=len(A),len(B)\n",
    "    C=[]\n",
    "    i,j=0,0\n",
    "    while i+j < m+n :\n",
    "        if i==m :\n",
    "            C.append(B[j])\n",
    "            j+=1\n",
    "        elif j==n:\n",
    "            C.append(A[i])\n",
    "            i+=1\n",
    "        elif A[i] <= B[j] :\n",
    "            C.append(A[i])\n",
    "            i+=1\n",
    "        elif A[i]  > B[j] :\n",
    "            C.append(B[j])\n",
    "            j+=1\n",
    "    return C\n",
    "def MergeSort(A,left,right):\n",
    "    if right-left <= 1:\n",
    "        return A[left:right]\n",
    "    else :\n",
    "        mid=(right+left)//2\n",
    "        L=MergeSort(A,left,mid)\n",
    "        R=MergeSort(A,mid,right)\n",
    "        return merge(L,R)\n"
   ]
  },
  {
   "cell_type": "markdown",
   "metadata": {},
   "source": [
    "procedure mergesort( var a as array )\n",
    "   if ( n == 1 ) return a\n",
    "\n",
    "   var l1 as array = a[0] ... a[n/2]\n",
    "   var l2 as array = a[n/2+1] ... a[n]\n",
    "\n",
    "   l1 = mergesort( l1 )\n",
    "   l2 = mergesort( l2 )\n",
    "\n",
    "   return merge( l1, l2 )\n",
    "end procedure\n",
    "\n",
    "procedure merge( var a as array, var b as array )\n",
    "\n",
    "   var c as array\n",
    "   while ( a and b have elements )\n",
    "      if ( a[0] > b[0] )\n",
    "         add b[0] to the end of c\n",
    "         remove b[0] from b\n",
    "      else\n",
    "         add a[0] to the end of c\n",
    "         remove a[0] from a\n",
    "      end if\n",
    "   end while\n",
    "   \n",
    "   while ( a has elements )\n",
    "      add a[0] to the end of c\n",
    "      remove a[0] from a\n",
    "   end while\n",
    "   \n",
    "   while ( b has elements )\n",
    "      add b[0] to the end of c\n",
    "      remove b[0] from b\n",
    "   end while\n",
    "   \n",
    "   return c\n",
    "\t\n",
    "end procedure"
   ]
  },
  {
   "cell_type": "markdown",
   "metadata": {},
   "source": [
    "## 2-QuickSort"
   ]
  },
  {
   "cell_type": "code",
   "execution_count": 27,
   "metadata": {},
   "outputs": [],
   "source": [
    "## Quick-Sort\n",
    "def QuickSort(A,l,r):\n",
    "    \n",
    "    if r-l <= 1 :\n",
    "        return ()\n",
    "    yellow=l+1\n",
    "    for green in range(l+1,r):\n",
    "        if A[green] <= A[l]:\n",
    "            A[yellow],A[green]=A[green],A[yellow]\n",
    "            yellow+=1\n",
    "\n",
    "    A[l],A[yellow-1]=A[yellow-1],A[l]\n",
    "    QuickSort(A,l,yellow-1)\n",
    "    QuickSort(A,yellow,r)\n",
    "    "
   ]
  },
  {
   "cell_type": "markdown",
   "metadata": {},
   "source": [
    "quickSort(array, leftmostIndex, rightmostIndex)\n",
    "  if (leftmostIndex < rightmostIndex)\n",
    "    pivotIndex <- partition(array,leftmostIndex, rightmostIndex)\n",
    "    quickSort(array, leftmostIndex, pivotIndex)\n",
    "    quickSort(array, pivotIndex + 1, rightmostIndex)\n",
    "\n",
    "partition(array, leftmostIndex, rightmostIndex)\n",
    "  set rightmostIndex as pivotIndex\n",
    "  storeIndex <- leftmostIndex - 1\n",
    "  for i <- leftmostIndex + 1 to rightmostIndex\n",
    "  if element[i] < pivotElement\n",
    "    swap element[i] and element[storeIndex]\n",
    "    storeIndex++\n",
    "  swap pivotElement and element[storeIndex+1]\n",
    "return storeIndex + "
   ]
  },
  {
   "cell_type": "markdown",
   "metadata": {},
   "source": [
    "## 3-Shell Sort"
   ]
  },
  {
   "cell_type": "code",
   "execution_count": 28,
   "metadata": {},
   "outputs": [],
   "source": [
    "#Shell-Sort\n",
    "def ShellSort(arr):\n",
    "    k=len(arr)\n",
    "    while k//2 >= 1:\n",
    "        k=k//2\n",
    "        i=0\n",
    "        while i+k < len(arr) :\n",
    "            j=i\n",
    "            m=k\n",
    "            while arr[j] > arr[j+m] and j >=0 :\n",
    "                arr[j],arr[j+m]=arr[j+m],arr[j]\n",
    "                j-=1\n",
    "            i+=1\n",
    "    return arr"
   ]
  },
  {
   "cell_type": "markdown",
   "metadata": {},
   "source": [
    "## 4-BubbleSort"
   ]
  },
  {
   "cell_type": "code",
   "execution_count": 29,
   "metadata": {},
   "outputs": [],
   "source": [
    "def bubbleSort(array):\n",
    "    n=len(array)\n",
    "    for i in range(n):\n",
    "        for j in range(0,n-i-1):\n",
    "            if(array[j] > array[j+1]):\n",
    "                array[j],array[j+1] = array[j+1],array[j]\n",
    "    return array"
   ]
  },
  {
   "cell_type": "markdown",
   "metadata": {},
   "source": [
    "begin BubbleSort(list)\n",
    "           for all elements of list\n",
    "                if list[i] > list[i+1]\n",
    "                      swap(list[i], list[i+1])\n",
    "                      end if\n",
    "            end for\n",
    "           return list\n",
    " end BubbleSort"
   ]
  },
  {
   "cell_type": "markdown",
   "metadata": {},
   "source": [
    "OUTPUT :\n",
    "(n-1) + (n-2) + (n-3) + ..... + 3 + 2 + 1\n",
    "Sum = n(n-1)/2\n",
    "i.e O(n2)"
   ]
  },
  {
   "cell_type": "markdown",
   "metadata": {},
   "source": [
    "## 5- InsertionSort"
   ]
  },
  {
   "cell_type": "code",
   "execution_count": 30,
   "metadata": {},
   "outputs": [],
   "source": [
    "def InsertionSort(arr):\n",
    "     for index in range(1,len(arr)):\n",
    "\n",
    "         currentvalue = arr[index]\n",
    "         position = index\n",
    "\n",
    "         while position>0 and arr[position-1]>currentvalue:\n",
    "             arr[position]=arr[position-1]\n",
    "             position = position-1\n",
    "\n",
    "         arr[position]=currentvalue"
   ]
  },
  {
   "cell_type": "markdown",
   "metadata": {},
   "source": [
    "INSERTION-SORT(A)\n",
    "   for i = 1 to n\n",
    "   \tkey ← A [i]\n",
    "    \tj ← i – 1\n",
    "  \t while j > = 0 and A[j] > key\n",
    "   \t\tA[j+1] ← A[j]\n",
    "   \t\tj ← j – 1\n",
    "   \tEnd while \n",
    "   \tA[j+1] ← key\n",
    "  End for "
   ]
  },
  {
   "cell_type": "markdown",
   "metadata": {},
   "source": [
    "## 6-CountingSort"
   ]
  },
  {
   "cell_type": "code",
   "execution_count": 31,
   "metadata": {},
   "outputs": [],
   "source": [
    "def CountingSort(array1):\n",
    "    max_val = max(array1)\n",
    "    m = max_val + 1\n",
    "    count = [0] * m                \n",
    "    \n",
    "    for a in array1:\n",
    "    \n",
    "        count[a] += 1             \n",
    "    i = 0\n",
    "    for a in range(m):            \n",
    "        for c in range(count[a]):  \n",
    "            array1[i] = a\n",
    "            i += 1\n",
    "    return array1"
   ]
  },
  {
   "cell_type": "markdown",
   "metadata": {},
   "source": [
    "## 7-Selection Sort"
   ]
  },
  {
   "cell_type": "markdown",
   "metadata": {},
   "source": [
    "FindMinIndex(Arr[], start, end)    \n",
    "        min_index = start    \n",
    "        \n",
    "        FOR i from (start + 1) to end:    \n",
    "            IF Arr[i] < Arr[min_index]:    \n",
    "                min_index = i    \n",
    "            END of IF    \n",
    "        END of FOR    \n",
    "              \n",
    "  Return min_index"
   ]
  },
  {
   "cell_type": "code",
   "execution_count": 32,
   "metadata": {},
   "outputs": [],
   "source": [
    "def SelectionSort(A):\n",
    "    for i in range(len(A)): \n",
    "        \n",
    "        mini = i \n",
    "        for j in range(i+1, len(A)): \n",
    "            if A[mini] > A[j]: \n",
    "                mini = j \n",
    "                      \n",
    "        A[i], A[mini] = A[mini], A[i] "
   ]
  },
  {
   "cell_type": "markdown",
   "metadata": {},
   "source": [
    "## Heap Sort"
   ]
  },
  {
   "cell_type": "markdown",
   "metadata": {},
   "source": [
    "##HEAP SORT\n",
    "\n",
    "MAXHEAPIFY\n",
    "\n",
    "Begin\n",
    "   for i := 1 to size do\n",
    "      node := i\n",
    "      par := floor (node / 2)\n",
    "      while par >= 1 do\n",
    "         if array[par] < array[node] then\n",
    "            swap array[par] with array[node]\n",
    "         node := par\n",
    "         par := floor (node / 2)\n",
    "      done\n",
    "   done\n",
    "End\n",
    "\n",
    "HEAPSORT\n",
    "\n",
    "Begin\n",
    "   for i := n to 1 decrease by 1 do\n",
    "      heapify(array, i)\n",
    "      swap array[1] with array[i]\n",
    "   done\n",
    "End"
   ]
  },
  {
   "cell_type": "code",
   "execution_count": 33,
   "metadata": {},
   "outputs": [],
   "source": [
    "def heapify(arr, n, root):\n",
    "    largest = root\n",
    "    left = 2 * root + 1\n",
    "    right = 2 * root + 2\n",
    "\n",
    "    if left < n and arr[root] < arr[left]:\n",
    "        largest = left\n",
    "\n",
    "    if right < n and arr[largest] < arr[right]:\n",
    "        largest = right\n",
    "\n",
    "    if largest != root:\n",
    "        arr[root], arr[largest] = arr[largest], arr[root]\n",
    "\n",
    "        # Heapify the root.\n",
    "        heapify(arr, n, largest)\n",
    "\n",
    "\n",
    "def HeapSort(arr):\n",
    "    n = len(arr)\n",
    "\n",
    "    # Build a maxheap.\n",
    "    for i in range(n, -1, -1):\n",
    "        heapify(arr, n, i)\n",
    "\n",
    "    for i in range(n - 1, 0, -1):\n",
    "        arr[i], arr[0] = arr[0], arr[i]\n",
    "        heapify(arr, i, 0)"
   ]
  },
  {
   "cell_type": "markdown",
   "metadata": {},
   "source": [
    "## Actual Code for sorting analysis :\n"
   ]
  },
  {
   "cell_type": "code",
   "execution_count": 34,
   "metadata": {},
   "outputs": [
    {
     "name": "stdout",
     "output_type": "stream",
     "text": [
      "[0.015594959259033203, 0.015623331069946289, 0.015624523162841797, 0.26006364822387695, 0.18012309074401855, 0.00800013542175293, 0.07999277114868164, 0.007998943328857422]\n"
     ]
    }
   ],
   "source": [
    "import time\n",
    "import random\n",
    "timearr = []\n",
    "\n",
    "lst = list(range(1000,0,-1))\n",
    "start = time.time()\n",
    "arr = MergeSort(lst,0,len(lst))\n",
    "end = time.time()\n",
    "timearr.append(end-start)\n",
    "\n",
    "\n",
    "lst = list(range(1000,0,-1))\n",
    "start = time.time()\n",
    "for i in range(len(lst)):\n",
    "    j=random.randrange(0,len(lst),1)\n",
    "    k=random.randrange(0,len(lst),1)\n",
    "    lst[k],lst[j]=lst[j],lst[k]\n",
    "QuickSort(lst,0,len(lst))\n",
    "end = time.time()\n",
    "timearr.append(end-start)\n",
    "\n",
    "lst = list(range(1000,0,-1))\n",
    "start = time.time()\n",
    "arr = ShellSort(lst)\n",
    "end = time.time()\n",
    "timearr.append(end-start)\n",
    "\n",
    "\n",
    "lst = list(range(1000,0,-1))\n",
    "start = time.time()\n",
    "bubbleSort(lst)\n",
    "end = time.time()\n",
    "timearr.append(end-start)\n",
    "\n",
    "lst = list(range(1000,0,-1))\n",
    "start = time.time()\n",
    "InsertionSort(lst)\n",
    "end = time.time()\n",
    "timearr.append(end-start)\n",
    "\n",
    "lst = list(range(1000,0,-1))\n",
    "start = time.time()\n",
    "arr = CountingSort(lst)\n",
    "for i in range(len(arr)):\n",
    "    j=random.randrange(0,len(lst),1)\n",
    "    k=random.randrange(0,len(lst),1)\n",
    "    lst[k],lst[j]=lst[j],lst[k]\n",
    "end = time.time()\n",
    "timearr.append(end-start)\n",
    "\n",
    "lst = list(range(1000,0,-1))\n",
    "start = time.time()\n",
    "SelectionSort(lst)\n",
    "end = time.time()\n",
    "timearr.append(end-start)\n",
    "\n",
    "lst = list(range(1000,0,-1))\n",
    "start = time.time()\n",
    "HeapSort(lst)\n",
    "end = time.time()\n",
    "timearr.append(end-start)\n",
    "\n",
    "\n",
    "print(timearr)"
   ]
  },
  {
   "cell_type": "code",
   "execution_count": null,
   "metadata": {},
   "outputs": [],
   "source": []
  },
  {
   "cell_type": "markdown",
   "metadata": {},
   "source": [
    "## Implementing Graph"
   ]
  },
  {
   "cell_type": "code",
   "execution_count": 35,
   "metadata": {},
   "outputs": [
    {
     "data": {
      "image/png": "[encoded data removed]",
      "text/plain": [
       "<Figure size 8640x1440 with 1 Axes>"
      ]
     },
     "metadata": {
      "needs_background": "light"
     },
     "output_type": "display_data"
    }
   ],
   "source": [
    "import matplotlib.pyplot as plt\n",
    "sortingtechniques = ['MERGE SORT', 'QUICK SORT' , 'SHELL SORT' , 'BUBBLE SORT' , 'INSERTION SORT', 'COUNTING SORT' , 'SELECTION SORT','HEAP SORT']\n",
    "\n",
    "\n",
    "plt.figure(figsize=(120,20))\n",
    "\n",
    "plt.subplot(131)\n",
    "plt.bar(sortingtechniques, timearr,color = ['yellow','blue'])\n",
    "\n",
    "plt.title('TIME V/S INPUT GRAPH FOR SORTING TECHNIQUES')\n",
    "\n",
    "plt.xlabel('SORTING TECHNIQUES / INPUT SIZE (1000)') \n",
    "\n",
    "plt.ylabel('TIME') \n",
    "plt.grid('on')\n",
    "font = {'family' : 'normal',\n",
    "        'weight' : 'bold',\n",
    "        'size'   : 23}\n",
    "\n",
    "plt.rc('font', **font)\n",
    "plt.show()"
   ]
  },
  {
   "cell_type": "code",
   "execution_count": 36,
   "metadata": {},
   "outputs": [],
   "source": [
    "# plt.figure(figsize=(120, 20))\n",
    "\n",
    "# plt.subplot(132)\n",
    "# plt.plot(timearr, sortingtechniques, color='green', linestyle='dashed', linewidth = 3, \n",
    "#          marker='o', markerfacecolor='blue', markersize=12) \n",
    "# plt.title('SORTING TECHNIQUES WITH ARRAY OF INPUT SIZE(1000)',label= \"stars\", color= \"green\",  \n",
    "#             marker= \"0\", s=50)\n",
    "# plt.xlabel('SORTING TECHNIQUES / INPUT SIZE (1000)') \n",
    "\n",
    "# plt.ylabel('TIME') \n",
    "# font = {'family' : 'normal',\n",
    "#         'weight' : 'bold',\n",
    "#         'size'   : 22}\n",
    "\n",
    "# plt.rc('font', **font)\n",
    "# plt.show()"
   ]
  },
  {
   "cell_type": "code",
   "execution_count": 37,
   "metadata": {},
   "outputs": [
    {
     "name": "stderr",
     "output_type": "stream",
     "text": [
      "<ipython-input-37-f78a2f722c4c>:2: MatplotlibDeprecationWarning: normalize=None does not normalize if the sum is less than 1 but this behavior is deprecated since 3.3 until two minor releases later. After the deprecation period the default value will be normalize=True. To prevent normalization pass normalize=False \n",
      "  plt.pie(timearr, labels = sortingtechniques)\n"
     ]
    },
    {
     "data": {
      "image/png": "[encoded data removed]",
      "text/plain": [
       "<Figure size 720x504 with 1 Axes>"
      ]
     },
     "metadata": {},
     "output_type": "display_data"
    }
   ],
   "source": [
    "fig = plt.figure(figsize =(10, 7)) \n",
    "plt.pie(timearr, labels = sortingtechniques) \n",
    "  \n",
    "# show plot \n",
    "plt.show() "
   ]
  },
  {
   "cell_type": "code",
   "execution_count": null,
   "metadata": {},
   "outputs": [],
   "source": []
  },
  {
   "cell_type": "code",
   "execution_count": null,
   "metadata": {},
   "outputs": [],
   "source": []
  }
 ],
 "metadata": {
  "kernelspec": {
   "display_name": "Python 3",
   "language": "python",
   "name": "python3"
  },
  "language_info": {
   "codemirror_mode": {
    "name": "ipython",
    "version": 3
   },
   "file_extension": ".py",
   "mimetype": "text/x-python",
   "name": "python",
   "nbconvert_exporter": "python",
   "pygments_lexer": "ipython3",
   "version": "3.8.6"
  }
 },
 "nbformat": 4,
 "nbformat_minor": 4
}
